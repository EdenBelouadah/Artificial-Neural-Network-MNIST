{
 "cells": [
  {
   "cell_type": "markdown",
   "metadata": {},
   "source": [
    "# TP1: "
   ]
  },
  {
   "cell_type": "markdown",
   "metadata": {},
   "source": [
    "Le but de ce TP1 est d'acquérir les bases nécessaires à la compréhension des réseaux de neurones à partir d'un modèle simple de type Softmax. La tâche d'apprentissage consiste à classifier les images (28 par 28 pixels) de la base MNIST (http://yann.lecun.com/exdb/mnist/) en 10 catégories représentant les chiffres 0-9.\n",
    "\n",
    "Le TP2 consistera à généraliser les concepts de ce TP1 à un réseau de neurones multi-couches."
   ]
  },
  {
   "cell_type": "markdown",
   "metadata": {},
   "source": [
    "## Chargement de la base en mémoire"
   ]
  },
  {
   "cell_type": "code",
   "execution_count": 1,
   "metadata": {
    "collapsed": true
   },
   "outputs": [],
   "source": [
    "%matplotlib inline\n",
    "import os\n",
    "import numpy as np\n",
    "import matplotlib.pyplot as plt\n",
    "\n",
    "if(\"mnist.pkl.gz\" not in os.listdir(\".\")):\n",
    "    !wget http://deeplearning.net/data/mnist/mnist.pkl.gz"
   ]
  },
  {
   "cell_type": "markdown",
   "metadata": {},
   "source": [
    "## Téléchargement de la base d'entraînement"
   ]
  },
  {
   "cell_type": "code",
   "execution_count": 2,
   "metadata": {
    "collapsed": true
   },
   "outputs": [],
   "source": [
    "import dataset_loader\n",
    "import pickle\n",
    "train_set, valid_set, test_set = dataset_loader.load_mnist()\n",
    "#pickle.dump(train_set,open(\"train_set.save.p\",\"wb\"))\n",
    "#pickle.dump(test_set,open(\"test_set.save.p\",\"wb\"))\n",
    "#pickle.dump(valid_set,open(\"valid_set.save.p\",\"wb\"))"
   ]
  },
  {
   "cell_type": "markdown",
   "metadata": {},
   "source": [
    "Vous pouvez visualiser les différents caractères en changeant l'identifiant de l'image"
   ]
  },
  {
   "cell_type": "code",
   "execution_count": 3,
   "metadata": {
    "scrolled": true
   },
   "outputs": [
    {
     "name": "stdout",
     "output_type": "stream",
     "text": [
      "label: 8\n"
     ]
    },
    {
     "data": {
      "image/png": "[encoded data removed]",
      "text/plain": [
       "<matplotlib.figure.Figure at 0x7f57eb8>"
      ]
     },
     "metadata": {},
     "output_type": "display_data"
    }
   ],
   "source": [
    "img_id = 900\n",
    "X=train_set[0][img_id]\n",
    "plt.imshow(X.reshape(28,28),cmap='Greys')\n",
    "print(\"label: \" + str(train_set[1][img_id]))"
   ]
  },
  {
   "cell_type": "markdown",
   "metadata": {},
   "source": [
    "Question 1: Donner les caractéristiques de la base d'apprentissage train_set"
   ]
  },
  {
   "cell_type": "code",
   "execution_count": 4,
   "metadata": {},
   "outputs": [
    {
     "name": "stdout",
     "output_type": "stream",
     "text": [
      "(50000, 784, 10)\n"
     ]
    }
   ],
   "source": [
    "def getDimDataset(train_set):\n",
    "    n_training = len(train_set[0])\n",
    "    n_feature = len(train_set[0][0])\n",
    "    n_label = len(set(train_set[1]))\n",
    "    return n_training, n_feature, n_label\n",
    "\n",
    "(n_training,n_feature,n_label)=getDimDataset(train_set)\n",
    "print (n_training,n_feature,n_label)"
   ]
  },
  {
   "cell_type": "markdown",
   "metadata": {},
   "source": [
    "## Création du modèle"
   ]
  },
  {
   "cell_type": "code",
   "execution_count": 5,
   "metadata": {
    "collapsed": true
   },
   "outputs": [],
   "source": [
    "def init(n_feature,n_label):\n",
    "    sigma = 1.\n",
    "    W = np.random.normal(loc=0.0, scale=sigma/np.sqrt(n_feature), size=(n_label,n_feature))\n",
    "    b = np.zeros((W.shape[0],1))\n",
    "    return W,b\n",
    "\n",
    "W,b=init(n_feature,n_label)"
   ]
  },
  {
   "cell_type": "markdown",
   "metadata": {},
   "source": [
    "Question 2: Donner les dimensions de W et b ainsi que le nombre total de paramètres du modèle"
   ]
  },
  {
   "cell_type": "code",
   "execution_count": 6,
   "metadata": {
    "scrolled": false
   },
   "outputs": [
    {
     "name": "stdout",
     "output_type": "stream",
     "text": [
      "W dimensions: (10L, 784L)\n",
      "b dimensions: (10L, 1L)\n",
      "Number of parameters: 7850\n"
     ]
    }
   ],
   "source": [
    "def printInfo(W,b):\n",
    "    print(\"W dimensions: \" + str(W.shape))\n",
    "    print(\"b dimensions: \" + str(b.shape))\n",
    "    print(\"Number of parameters: \" + str(W.shape[0]*W.shape[1]+b.shape[0]))\n",
    "    \n",
    "printInfo(W,b)"
   ]
  },
  {
   "cell_type": "markdown",
   "metadata": {},
   "source": [
    "Question 3: Implémenter la fonction forward $$z_j = \\sum_{i \\rightarrow j} W_{ij} x_i + b_j$$ où $x_i$ est un pixel de l'image, $W_{ij}$ est la valeur associée à l'arête reliant les unités $i$ et $j$ et $b_j$ est le bias associé à l'unité $j$"
   ]
  },
  {
   "cell_type": "code",
   "execution_count": 7,
   "metadata": {
    "collapsed": true,
    "scrolled": true
   },
   "outputs": [],
   "source": [
    "def forward(W,b,X):\n",
    "    \"\"\"\n",
    "        Perform the forward propagation\n",
    "        :param W: the weights\n",
    "        :param b: the bias\n",
    "        :param X: the input (minibatch_size x n_input)\n",
    "        :type W: ndarray\n",
    "        :type B: ndarray\n",
    "        :type X: ndarray\n",
    "        :return: the transformed values\n",
    "        :rtype: ndarray\n",
    "    \"\"\"\n",
    "    #print('forward : X', X.shape, 'W', W.shape, 'b', b.shape)\n",
    "    z = X.dot(W.transpose()) + b.transpose()\n",
    "    return z\n",
    "\n",
    "#X = train_set[0][:5] # 5 examples at once\n",
    "#print(X.shape)\n",
    "z = forward(W,b,X) # Works with any number of examples !\n",
    "#print(z.shape)\n",
    "#print(z)"
   ]
  },
  {
   "cell_type": "markdown",
   "metadata": {},
   "source": [
    "Question 4: Implémenter la fonction softmax $$ \\sigma_i = P(t=i|x,W,b) = \\frac{\\exp{z_i}}{\\sum_k \\exp{z_k}}$$"
   ]
  },
  {
   "cell_type": "code",
   "execution_count": 8,
   "metadata": {
    "collapsed": true,
    "scrolled": true
   },
   "outputs": [],
   "source": [
    "def softmax(z):\n",
    "    \"\"\"\n",
    "        Perform the softmax transformation to the pre-activation values\n",
    "        :param z: the pre-activation values\n",
    "        :type z: ndarray\n",
    "        :return: the activation values\n",
    "        :rtype: ndarray\n",
    "    \"\"\"\n",
    "    exps = np.exp(z)\n",
    "    somme_exps = np.sum(exps,axis=1)\n",
    "    for i in range(somme_exps.shape[0]):\n",
    "        exps[i]/=somme_exps[i]\n",
    "    return exps\n",
    "out=softmax(z)\n",
    "#print(out.shape)\n",
    "#print (out)"
   ]
  },
  {
   "cell_type": "markdown",
   "metadata": {},
   "source": [
    "Optionnel: Vérifier que votre implémentation de softmax soit numériquement stable (cf. http://ufldl.stanford.edu/wiki/index.php/Exercise:Softmax_Regression)"
   ]
  },
  {
   "cell_type": "code",
   "execution_count": null,
   "metadata": {
    "collapsed": true
   },
   "outputs": [],
   "source": []
  },
  {
   "cell_type": "markdown",
   "metadata": {},
   "source": [
    "Question 5: Implémenter le calcul du gradient de l'erreur par rapport à $z_i$:\n",
    "$$\\delta z_i = \\sigma_i - 1_{i=l}$$\n",
    "où $l$ est l'étiquette associée à la donnée courante."
   ]
  },
  {
   "cell_type": "code",
   "execution_count": 9,
   "metadata": {
    "collapsed": true,
    "scrolled": false
   },
   "outputs": [],
   "source": [
    "def gradient_out(out, one_hot_batch):\n",
    "    \"\"\"\n",
    "    compute the gradient w.r.t. the pre-activation values of the softmax z_i\n",
    "    :param out: the softmax values\n",
    "    :type out: ndarray\n",
    "    :param one_hot_batch: the one-hot representation of the labels\n",
    "    :type one_hot_batch: ndarray\n",
    "    :return: the gradient w.r.t. z\n",
    "    :rtype: ndarray\n",
    "    \"\"\"\n",
    "    #print('gradient_out : out', out.shape, 'one_hot_batch', one_hot_batch.shape)\n",
    "    return out - one_hot_batch\n",
    "\n",
    "derror=gradient_out(out,np.array([0,0,0,0,0,0,0,0,1,0]))\n",
    "#print(derror.shape)\n",
    "#print(derror)"
   ]
  },
  {
   "cell_type": "markdown",
   "metadata": {},
   "source": [
    "Question 6: Implémenter la fonction du calcul de gradient par rapport aux paramètres: $$\\delta W_{ij} = \\delta z_j x_i$$  $$\\delta b_{j} = \\delta z_j$$ où $\\delta W_{ij}$ est la composante du gradient associée à l'arête reliant les unités $i$ et $j$, $\\delta b_{j}$ est la composante du gradient associée au bias de l'unité $j$, $\\delta z_j$ est le gradient de l'erreur par rapport à l'unité $j$ et $x_i$ est la valeur d'activation de l'unité $i$."
   ]
  },
  {
   "cell_type": "code",
   "execution_count": 10,
   "metadata": {
    "collapsed": true
   },
   "outputs": [],
   "source": [
    "def gradient(derror, X):\n",
    "    \"\"\"\n",
    "        Compute the gradient w.r.t. the parameters\n",
    "        :param derror: the gradient w.r.t. z\n",
    "        :param X: the input (minibatch_size x n_input)\n",
    "        :param minibatch_size: the minibatch size\n",
    "        :type derror: ndarray\n",
    "        :type minibatch: ndarray\n",
    "        :type minibatch_size: unsigned\n",
    "        :return: the gradient w.r.t. the parameters\n",
    "        :rtype: ndarray, ndarray\n",
    "    \"\"\"     \n",
    "    grad_b = derror\n",
    "    grad_w = derror.transpose().dot(X.reshape(-1, 784))\n",
    "    #print('gradient_update: grad_w', grad_w.shape, 'grad_b', grad_b.shape)\n",
    "    return grad_w,grad_b\n",
    "\n",
    "#print(derror.shape)\n",
    "grad_w, grad_b=gradient(derror,X)\n",
    "#print(grad_w.shape, grad_b.shape)\n",
    "#print(grad_w)\n",
    "#print(grad_b)"
   ]
  },
  {
   "cell_type": "markdown",
   "metadata": {},
   "source": [
    "Question 7: Implémenter la fonction de mise à jour des paramètres $$p = p - \\eta \\delta p$$ où $p$ est un paramètre du modèle et $\\delta p$ la composante du gradient associée à p."
   ]
  },
  {
   "cell_type": "code",
   "execution_count": 11,
   "metadata": {
    "collapsed": true,
    "scrolled": true
   },
   "outputs": [],
   "source": [
    "def update(eta, W, b, grad_w, grad_b):\n",
    "    \"\"\"\n",
    "        Update the parameters with an update rule\n",
    "        :param eta: the step-size\n",
    "        :param W: the weights\n",
    "        :param b: the bias\n",
    "        :param grad_w: the gradient w.r.t. the weights\n",
    "        :param grad_b: the gradient w.r.t. the bias\n",
    "        :type eta: float\n",
    "        :type W: ndarray\n",
    "        :type b: ndarray\n",
    "        :type grad_w: ndarray\n",
    "        :type grad_b: ndarray\n",
    "        :return: the updated parameters\n",
    "        :rtype: ndarray, ndarray\n",
    "    \"\"\"\n",
    "    b = b.transpose()\n",
    "    b = b - eta*grad_b\n",
    "    W = W - eta*grad_w\n",
    "    #print('update : W', W.shape, 'b', b.shape, 'grad_w', grad_w.shape, 'grad_b', grad_b.shape)\n",
    "    return W, b\n",
    "eta=0.1\n",
    "#print(W.shape, b.shape)\n",
    "#print(b)\n",
    "W,b=update(eta, W, b, grad_w, grad_b)\n",
    "#print(b)"
   ]
  },
  {
   "cell_type": "markdown",
   "metadata": {},
   "source": [
    "Question 8: Implémenter la fonction de calcul du coût et de la précision:\n",
    "Utiliser les fonction *forward* et *softmax*, puis calculer le coût $c$, qui est moins la log-probabilité des classes à prédire: $$c = - \\sum_{(x_{i}, y_{i}) \\in \\mathcal{D}} \\log P(y=y_{i}|x_{i},W,b)$$\n",
    "\n",
    "Et enfin la précision, c'est à dire le taux de prédictions réussies."
   ]
  },
  {
   "cell_type": "code",
   "execution_count": 12,
   "metadata": {
    "collapsed": true
   },
   "outputs": [],
   "source": [
    "def computeLoss(W, b, batch, labels, softmax):\n",
    "    \"\"\"\n",
    "        Compute the loss value of the current network on the full batch\n",
    "        :param W: the weights\n",
    "        :param B: the bias\n",
    "        :param batch: the weights\n",
    "        :param labels: the bias\n",
    "        :param act_func: the weights\n",
    "        :type W: ndarray\n",
    "        :type B: ndarray\n",
    "        :type batch: ndarray\n",
    "        :type act_func: function\n",
    "        :return loss: the negative log-likelihood\n",
    "        :return accuracy: the ratio of examples that are well-classified\n",
    "        :rtype: float\n",
    "        :rtype: float\n",
    "    \"\"\" \n",
    "    #print('computeLoss: W', W.shape, 'b', b.shape, 'batch', batch.shape, 'labels', labels.shape)\n",
    "    ### Forward propagation\n",
    "    z = forward(W,b[:,0:1],batch)\n",
    "    ### Compute the softmax\n",
    "    out=softmax(z)\n",
    "    \n",
    "    loss = -np.sum(np.log(out[np.arange(out.shape[0]), labels]))\n",
    "    accuracy = np.mean((np.argmax(out, axis=1) == labels).astype(np.float, copy=False))\n",
    "    return loss, accuracy"
   ]
  },
  {
   "cell_type": "markdown",
   "metadata": {},
   "source": [
    "Question 9: Implémenter la fonction de création de mini-batch, qui pour un indice, une taille de batch, des données d'entraînement et les labels correspondants, renvoie le batch de données/labels correspondant, et la taille du batch. "
   ]
  },
  {
   "cell_type": "code",
   "execution_count": 13,
   "metadata": {
    "collapsed": true
   },
   "outputs": [],
   "source": [
    "def getMiniBatch(i, batch_size, train_set, one_hot):\n",
    "    \"\"\"\n",
    "        Return a minibatch from the training set and the associated labels\n",
    "        :param i: the identifier of the minibatch\n",
    "        :param batch_size: the number of training examples\n",
    "        :param train_set: the training set\n",
    "        :param one_hot: the one-hot representation of the labels\n",
    "        :type i: int\n",
    "        :type batch_size: int\n",
    "        :type train_set: ndarray\n",
    "        :type ont_hot: ndarray\n",
    "        :return: the minibatch of examples\n",
    "        :return: the minibatch of labels\n",
    "        :return: the number of examples in the minibatch\n",
    "        :rtype: ndarray\n",
    "        :rtype: ndarray\n",
    "        :rtype: int\n",
    "    \"\"\"\n",
    "    idx_begin = i\n",
    "    idx_end = i+batch_size\n",
    "    batch = train_set[0][idx_begin:idx_end]\n",
    "    one_hot=one_hot.transpose()\n",
    "    one_hot_batch = one_hot[idx_begin:idx_end,:]\n",
    "    mini_batch_size = batch.shape[0]\n",
    "\n",
    "    return np.asfortranarray(batch), one_hot_batch, mini_batch_size\n",
    "\n"
   ]
  },
  {
   "cell_type": "markdown",
   "metadata": {},
   "source": [
    "## Algorithme d'apprentissage"
   ]
  },
  {
   "cell_type": "code",
   "execution_count": 18,
   "metadata": {
    "scrolled": true
   },
   "outputs": [
    {
     "name": "stdout",
     "output_type": "stream",
     "text": [
      "W dimensions: (10L, 784L)\n",
      "b dimensions: (10L, 1L)\n",
      "Number of parameters: 7850\n",
      "ETA=0.001\n",
      "-----------------------------\n",
      "Iter0, training time: 0.61s, Tloss=23259.57, Taccu=0.8627, Vloss=4132.29, Vaccu=0.8747, eta=0.001\n",
      "-------------------------------------------\n",
      "Iter1, training time: 1.2s, Tloss=22378.16, Taccu=0.8659, Vloss=3974.53, Vaccu=0.8783, eta=0.001\n",
      "-------------------------------------------\n",
      "Iter2, training time: 1.79s, Tloss=22382.37, Taccu=0.8659, Vloss=3975.89, Vaccu=0.8778, eta=0.001\n",
      "-------------------------------------------\n",
      "Iter3, training time: 2.38s, Tloss=22612.58, Taccu=0.866, Vloss=4018.44, Vaccu=0.8784, eta=0.001\n",
      "-------------------------------------------\n",
      "Iter4, training time: 2.95s, Tloss=22914.58, Taccu=0.8656, Vloss=4073.75, Vaccu=0.8787, eta=0.001\n",
      "-------------------------------------------\n",
      "Iter5, training time: 3.55s, Tloss=23238.62, Taccu=0.8653, Vloss=4132.6, Vaccu=0.8778, eta=0.001\n",
      "-------------------------------------------\n",
      "Iter6, training time: 4.13s, Tloss=23564.29, Taccu=0.8647, Vloss=4191.27, Vaccu=0.8775, eta=0.001\n",
      "-------------------------------------------\n",
      "Iter7, training time: 4.71s, Tloss=23880.36, Taccu=0.8645, Vloss=4247.73, Vaccu=0.877, eta=0.001\n",
      "-------------------------------------------\n",
      "Iter8, training time: 5.28s, Tloss=24180.4, Taccu=0.8639, Vloss=4300.86, Vaccu=0.8765, eta=0.001\n",
      "-------------------------------------------\n",
      "Iter9, training time: 5.86s, Tloss=24462.72, Taccu=0.8637, Vloss=4350.51, Vaccu=0.8767, eta=0.001\n",
      "-------------------------------------------\n",
      "Iter10, training time: 6.45s, Tloss=24728.57, Taccu=0.8635, Vloss=4397.08, Vaccu=0.8766, eta=0.001\n",
      "-------------------------------------------\n",
      "Iter11, training time: 7.04s, Tloss=24979.82, Taccu=0.8634, Vloss=4441.02, Vaccu=0.8762, eta=0.001\n",
      "-------------------------------------------\n",
      "Iter12, training time: 7.6s, Tloss=25218.07, Taccu=0.8634, Vloss=4482.67, Vaccu=0.8761, eta=0.001\n",
      "-------------------------------------------\n",
      "Iter13, training time: 8.24s, Tloss=25444.61, Taccu=0.863, Vloss=4522.31, Vaccu=0.8762, eta=0.001\n",
      "-------------------------------------------\n",
      "Iter14, training time: 8.9s, Tloss=25660.49, Taccu=0.8629, Vloss=4560.11, Vaccu=0.8756, eta=0.001\n",
      "-------------------------------------------\n",
      "Iter15, training time: 9.5s, Tloss=25866.6, Taccu=0.8626, Vloss=4596.26, Vaccu=0.8756, eta=0.001\n",
      "-------------------------------------------\n",
      "Iter16, training time: 10.07s, Tloss=26063.72, Taccu=0.8625, Vloss=4630.88, Vaccu=0.8757, eta=0.001\n",
      "-------------------------------------------\n",
      "Iter17, training time: 10.67s, Tloss=26252.54, Taccu=0.8623, Vloss=4664.09, Vaccu=0.8755, eta=0.001\n",
      "-------------------------------------------\n",
      "Iter18, training time: 11.25s, Tloss=26433.7, Taccu=0.8622, Vloss=4695.99, Vaccu=0.8756, eta=0.001\n",
      "-------------------------------------------\n",
      "Iter19, training time: 11.83s, Tloss=26607.73, Taccu=0.862, Vloss=4726.69, Vaccu=0.8755, eta=0.001\n",
      "-------------------------------------------\n",
      "Iter20, training time: 12.48s, Tloss=26775.16, Taccu=0.8622, Vloss=4756.27, Vaccu=0.8756, eta=0.001\n",
      "-------------------------------------------\n",
      "Iter21, training time: 13.1s, Tloss=26936.43, Taccu=0.8622, Vloss=4784.8, Vaccu=0.8755, eta=0.001\n",
      "-------------------------------------------\n",
      "Iter22, training time: 13.73s, Tloss=27091.97, Taccu=0.8622, Vloss=4812.35, Vaccu=0.8752, eta=0.001\n",
      "-------------------------------------------\n",
      "Iter23, training time: 14.32s, Tloss=27242.15, Taccu=0.8621, Vloss=4838.99, Vaccu=0.8753, eta=0.001\n",
      "-------------------------------------------\n",
      "Iter24, training time: 14.98s, Tloss=27387.31, Taccu=0.8621, Vloss=4864.77, Vaccu=0.8753, eta=0.001\n",
      "-------------------------------------------\n",
      "Iter25, training time: 15.57s, Tloss=27527.77, Taccu=0.862, Vloss=4889.74, Vaccu=0.8752, eta=0.001\n",
      "-------------------------------------------\n",
      "Iter26, training time: 16.19s, Tloss=27663.81, Taccu=0.8619, Vloss=4913.96, Vaccu=0.8751, eta=0.001\n",
      "-------------------------------------------\n",
      "Iter27, training time: 16.83s, Tloss=27795.7, Taccu=0.8619, Vloss=4937.47, Vaccu=0.8751, eta=0.001\n",
      "-------------------------------------------\n",
      "Iter28, training time: 17.47s, Tloss=27923.68, Taccu=0.8619, Vloss=4960.3, Vaccu=0.8749, eta=0.001\n",
      "-------------------------------------------\n",
      "Iter29, training time: 18.13s, Tloss=28047.97, Taccu=0.8619, Vloss=4982.51, Vaccu=0.875, eta=0.001\n",
      "-------------------------------------------\n",
      "ETA=0.01\n",
      "-----------------------------\n",
      "Iter0, training time: 0.65s, Tloss=78103.16, Taccu=0.8548, Vloss=13523.68, Vaccu=0.8676, eta=0.01\n",
      "-------------------------------------------\n",
      "Iter1, training time: 1.25s, Tloss=76047.14, Taccu=0.8545, Vloss=13253.28, Vaccu=0.8677, eta=0.01\n",
      "-------------------------------------------\n",
      "Iter2, training time: 1.84s, Tloss=75197.52, Taccu=0.8547, Vloss=13115.71, Vaccu=0.8679, eta=0.01\n",
      "-------------------------------------------\n",
      "Iter3, training time: 2.48s, Tloss=74621.92, Taccu=0.8551, Vloss=13025.92, Vaccu=0.8692, eta=0.01\n",
      "-------------------------------------------\n",
      "Iter4, training time: 3.06s, Tloss=74174.94, Taccu=0.855, Vloss=12959.35, Vaccu=0.8696, eta=0.01\n",
      "-------------------------------------------\n",
      "Iter5, training time: 3.68s, Tloss=73803.18, Taccu=0.855, Vloss=12906.49, Vaccu=0.8696, eta=0.01\n",
      "-------------------------------------------\n",
      "Iter6, training time: 4.27s, Tloss=73477.42, Taccu=0.8551, Vloss=12862.21, Vaccu=0.8696, eta=0.01\n",
      "-------------------------------------------\n",
      "Iter7, training time: 4.85s, Tloss=73162.51, Taccu=0.8553, Vloss=12820.81, Vaccu=0.8701, eta=0.01\n",
      "-------------------------------------------\n",
      "Iter8, training time: 5.43s, Tloss=72847.21, Taccu=0.8555, Vloss=12779.5, Vaccu=0.8704, eta=0.01\n",
      "-------------------------------------------\n",
      "Iter9, training time: 6.03s, Tloss=72574.56, Taccu=0.8558, Vloss=12743.12, Vaccu=0.8708, eta=0.01\n",
      "-------------------------------------------\n",
      "Iter10, training time: 6.64s, Tloss=72352.8, Taccu=0.856, Vloss=12712.79, Vaccu=0.871, eta=0.01\n",
      "-------------------------------------------\n",
      "Iter11, training time: 7.22s, Tloss=72166.65, Taccu=0.8562, Vloss=12686.86, Vaccu=0.8704, eta=0.01\n",
      "-------------------------------------------\n",
      "Iter12, training time: 7.86s, Tloss=72003.97, Taccu=0.8562, Vloss=12663.99, Vaccu=0.87, eta=0.01\n",
      "-------------------------------------------\n",
      "Iter13, training time: 8.49s, Tloss=71857.8, Taccu=0.8565, Vloss=12643.35, Vaccu=0.8701, eta=0.01\n",
      "-------------------------------------------\n",
      "Iter14, training time: 9.13s, Tloss=71724.1, Taccu=0.8565, Vloss=12624.46, Vaccu=0.8701, eta=0.01\n",
      "-------------------------------------------\n",
      "Iter15, training time: 9.71s, Tloss=71600.35, Taccu=0.8567, Vloss=12606.99, Vaccu=0.8703, eta=0.01\n",
      "-------------------------------------------\n",
      "Iter16, training time: 10.28s, Tloss=71484.84, Taccu=0.8567, Vloss=12590.72, Vaccu=0.8704, eta=0.01\n",
      "-------------------------------------------\n",
      "Iter17, training time: 10.86s, Tloss=71376.38, Taccu=0.8568, Vloss=12575.49, Vaccu=0.8701, eta=0.01\n",
      "-------------------------------------------\n",
      "Iter18, training time: 11.48s, Tloss=71274.05, Taccu=0.8569, Vloss=12561.16, Vaccu=0.8697, eta=0.01\n",
      "-------------------------------------------\n",
      "Iter19, training time: 12.1s, Tloss=71177.18, Taccu=0.857, Vloss=12547.64, Vaccu=0.8697, eta=0.01\n",
      "-------------------------------------------\n",
      "Iter20, training time: 12.68s, Tloss=71085.22, Taccu=0.8572, Vloss=12534.85, Vaccu=0.8698, eta=0.01\n",
      "-------------------------------------------\n",
      "Iter21, training time: 13.32s, Tloss=70997.74, Taccu=0.8572, Vloss=12522.73, Vaccu=0.8703, eta=0.01\n",
      "-------------------------------------------\n",
      "Iter22, training time: 13.88s, Tloss=70914.38, Taccu=0.8574, Vloss=12511.21, Vaccu=0.8702, eta=0.01\n",
      "-------------------------------------------\n",
      "Iter23, training time: 14.49s, Tloss=70834.85, Taccu=0.8575, Vloss=12500.26, Vaccu=0.8702, eta=0.01\n",
      "-------------------------------------------\n",
      "Iter24, training time: 15.18s, Tloss=70758.89, Taccu=0.8577, Vloss=12489.85, Vaccu=0.8699, eta=0.01\n",
      "-------------------------------------------\n",
      "Iter25, training time: 15.76s, Tloss=70686.3, Taccu=0.8577, Vloss=12479.93, Vaccu=0.8698, eta=0.01\n",
      "-------------------------------------------\n",
      "Iter26, training time: 16.36s, Tloss=70616.89, Taccu=0.8578, Vloss=12470.48, Vaccu=0.8697, eta=0.01\n",
      "-------------------------------------------\n"
     ]
    },
    {
     "name": "stdout",
     "output_type": "stream",
     "text": [
      "Iter27, training time: 16.94s, Tloss=70550.47, Taccu=0.8579, Vloss=12461.49, Vaccu=0.8696, eta=0.01\n",
      "-------------------------------------------\n",
      "Iter28, training time: 17.54s, Tloss=70486.92, Taccu=0.8579, Vloss=12452.92, Vaccu=0.8698, eta=0.01\n",
      "-------------------------------------------\n",
      "Iter29, training time: 18.19s, Tloss=70426.08, Taccu=0.8579, Vloss=12444.76, Vaccu=0.8699, eta=0.01\n",
      "-------------------------------------------\n"
     ]
    }
   ],
   "source": [
    "import math,time, pickle\n",
    "from IPython.display import clear_output\n",
    "\n",
    "\n",
    "#train_set=pickle.load(open(\"train_set.save.p\",\"rb\"))\n",
    "#test_set=pickle.load(open(\"test_set.save.p\",\"rb\"))\n",
    "#valid_set=pickle.load(open(\"valid_set.save.p\",\"rb\"))\n",
    "\n",
    "# Data structures for plotting\n",
    "g_i = []\n",
    "g_train_loss=[]\n",
    "g_train_acc=[]\n",
    "g_valid_loss=[]\n",
    "g_valid_acc=[]\n",
    "\n",
    "n_training, n_feature, n_label = getDimDataset(train_set)\n",
    "\n",
    "# SGD parameters\n",
    "eta = 0.0001\n",
    "etas=[0.001,0.01]\n",
    "batch_size = 1000\n",
    "n_batch = int(math.ceil(float(n_training)/batch_size))\n",
    "n_epoch = 30\n",
    "\n",
    "\n",
    "\n",
    "# Initialize the model parameters\n",
    "W,b = init(n_feature,n_label)\n",
    "printInfo(W,b)\n",
    "\n",
    "# Convert the labels to one-hot vector\n",
    "one_hot = np.zeros((n_label,n_training))\n",
    "one_hot[train_set[1],np.arange(n_training)]=1.\n",
    "g_is=[]\n",
    "g_train_losses=[]\n",
    "g_valid_losses=[]\n",
    "for eta in etas:\n",
    "    print (\"ETA=\"+str(eta)+\"\\n-----------------------------\")\n",
    "    cumul_time = 0.\n",
    "    for i in range(n_epoch):\n",
    "        for j in range(n_batch):\n",
    "\n",
    "            ### Mini-batch creation\n",
    "            minibatch, one_hot_batch, minibatch_size = getMiniBatch(j, batch_size, train_set, one_hot)\n",
    "            #print('mini batch', minibatch.shape)\n",
    "            #print('one-hot batch', one_hot_batch.shape)\n",
    "\n",
    "            prev_time = time.clock()\n",
    "\n",
    "            ### Forward propagation\n",
    "            Z = forward(W,b,minibatch)\n",
    "\n",
    "            ### Compute the softmax\n",
    "            out = softmax(Z)\n",
    "\n",
    "            ### Compute the gradient at the top layer\n",
    "            derror = gradient_out(out,one_hot_batch)\n",
    "\n",
    "            ### Compute the gradient w.r.t. parameters\n",
    "            grad_w,grad_b = gradient(derror, minibatch)\n",
    "\n",
    "            ### Update the parameters\n",
    "            W,b = update(eta, W, b, grad_w, grad_b)\n",
    "            b = b.transpose()\n",
    "\n",
    "            curr_time = time.clock()\n",
    "            cumul_time += curr_time - prev_time\n",
    "\n",
    "        ### Training accuracy\n",
    "        train_loss, train_acc = computeLoss(W, b, train_set[0], train_set[1],softmax) \n",
    "\n",
    "        ### Valid accuracy\n",
    "        valid_loss, valid_acc = computeLoss(W, b, valid_set[0], valid_set[1],softmax) \n",
    "\n",
    "        g_i = np.append(g_i, i)\n",
    "        g_train_loss = np.append(g_train_loss, train_loss)\n",
    "        g_train_acc = np.append(g_train_acc, train_acc)\n",
    "        g_valid_loss = np.append(g_valid_loss, valid_loss)\n",
    "        g_valid_acc = np.append(g_valid_acc, valid_acc)\n",
    "    \n",
    "        g_is.append(g_i)\n",
    "        g_train_losses.append(g_train_loss)\n",
    "        g_valid_losses.append(g_valid_loss)\n",
    "    \n",
    "        result_line = \"Iter\" + str(i) + \", training time: \" + str(round(cumul_time, 2)) + \"s, Tloss=\" + str(round(train_loss, 2)) + \", Taccu=\" + str(round(train_acc, 4)) + \", Vloss=\" + str(round(valid_loss, 2)) + \", Vaccu=\" + str(round(valid_acc, 4)) + \", eta=\" + str(eta)\n",
    "        print(result_line)\n",
    "        print(\"-------------------------------------------\")"
   ]
  },
  {
   "cell_type": "code",
   "execution_count": 15,
   "metadata": {
    "scrolled": true
   },
   "outputs": [
    {
     "data": {
      "text/plain": [
       "<matplotlib.legend.Legend at 0x7e5dc50>"
      ]
     },
     "execution_count": 15,
     "metadata": {},
     "output_type": "execute_result"
    },
    {
     "data": {
      "image/png": "[encoded data removed]",
      "text/plain": [
       "<matplotlib.figure.Figure at 0x7fa8ba8>"
      ]
     },
     "metadata": {},
     "output_type": "display_data"
    }
   ],
   "source": [
    "plt.plot(g_i,g_train_loss,label='train_loss')\n",
    "plt.plot(g_i,g_valid_loss,label='valid_loss')\n",
    "plt.xlabel(\"epoch\")\n",
    "plt.ylabel(\"Negative log-likelihood\")\n",
    "plt.legend()"
   ]
  },
  {
   "cell_type": "code",
   "execution_count": 16,
   "metadata": {
    "scrolled": false
   },
   "outputs": [
    {
     "data": {
      "text/plain": [
       "<matplotlib.legend.Legend at 0xb079cf8>"
      ]
     },
     "execution_count": 16,
     "metadata": {},
     "output_type": "execute_result"
    },
    {
     "data": {
      "image/png": "[encoded data removed]",
      "text/plain": [
       "<matplotlib.figure.Figure at 0x8434f28>"
      ]
     },
     "metadata": {},
     "output_type": "display_data"
    }
   ],
   "source": [
    "plt.plot(g_i,1.0-g_train_acc,label='train_acc')\n",
    "plt.plot(g_i,1.0-g_valid_acc,label='valid_acc')\n",
    "plt.xlabel(\"epoch\")\n",
    "plt.ylabel(\"Classification error\")\n",
    "plt.ylim([0.,1.])\n",
    "plt.legend()"
   ]
  },
  {
   "cell_type": "markdown",
   "metadata": {},
   "source": [
    "Question 10: Montrer, à l'aide d'une figure, l'effet du step-size (prendre $\\eta$=[0.01,0.1,1.0,10.]) sur les courbes d'apprentissage"
   ]
  },
  {
   "cell_type": "code",
   "execution_count": 19,
   "metadata": {
    "scrolled": true
   },
   "outputs": [
    {
     "data": {
      "image/png": "[encoded data removed]",
      "text/plain": [
       "<matplotlib.figure.Figure at 0xb405e10>"
      ]
     },
     "metadata": {},
     "output_type": "display_data"
    }
   ],
   "source": [
    "for i in range(len(etas)):\n",
    "    plt.plot(g_is[i],g_train_losses[i],label='train_loss_eta='+str(etas[i]))\n",
    "    plt.plot(g_is[i],g_valid_losses[i],label='valid_loss_eta='+str(etas[i]))\n",
    "    plt.xlabel(\"epoch\")\n",
    "    plt.ylabel(\"Negative log-likelihood\")\n",
    "    plt.legend()"
   ]
  },
  {
   "cell_type": "code",
   "execution_count": null,
   "metadata": {
    "collapsed": true
   },
   "outputs": [],
   "source": []
  }
 ],
 "metadata": {
  "kernelspec": {
   "display_name": "Python 2",
   "language": "python",
   "name": "python2"
  },
  "language_info": {
   "codemirror_mode": {
    "name": "ipython",
    "version": 2
   },
   "file_extension": ".py",
   "mimetype": "text/x-python",
   "name": "python",
   "nbconvert_exporter": "python",
   "pygments_lexer": "ipython2",
   "version": "2.7.13"
  }
 },
 "nbformat": 4,
 "nbformat_minor": 1
}
